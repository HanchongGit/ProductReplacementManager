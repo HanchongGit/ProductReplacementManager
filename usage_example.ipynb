{
 "cells": [
  {
   "cell_type": "code",
   "execution_count": 1,
   "metadata": {},
   "outputs": [
    {
     "name": "stderr",
     "output_type": "stream",
     "text": [
      "2024-08-24 17:13:53,816 - INFO - State saved to persist\\product_replacement_state.pkl\n",
      "2024-08-24 17:13:53,818 - INFO - Replaced product 'A' with 'B' on 2024-08-01\n",
      "2024-08-24 17:13:53,818 - INFO - State saved to persist\\product_replacement_state.pkl\n",
      "2024-08-24 17:13:53,818 - INFO - Replaced product 'B' with 'C' on 2024-08-15\n",
      "2024-08-24 17:13:53,819 - INFO - State saved to persist\\product_replacement_state.pkl\n",
      "2024-08-24 17:13:53,819 - INFO - Replaced product 'E' with 'F' on 2024-08-10\n",
      "2024-08-24 17:13:53,820 - INFO - State saved to persist\\product_replacement_state.pkl\n",
      "2024-08-24 17:13:53,821 - INFO - State saved to persist\\product_replacement_state.pkl\n",
      "2024-08-24 17:13:53,821 - INFO - Product 'H' added to the system.\n",
      "2024-08-24 17:13:53,821 - INFO - State saved to persist\\product_replacement_state.pkl\n",
      "2024-08-24 17:13:53,822 - INFO - Product 'I' added to the system.\n",
      "2024-08-24 17:13:53,822 - INFO - Replaced product 'H' with 'I' on 2024-08-20\n",
      "2024-08-24 17:13:53,822 - INFO - State saved to persist\\product_replacement_state.pkl\n",
      "2024-08-24 17:13:53,823 - INFO - State saved to persist\\product_replacement_state.pkl\n",
      "2024-08-24 17:13:53,823 - INFO - Latest replacement of A is C, modified on 2024-08-15 00:00:00\n",
      "2024-08-24 17:13:53,823 - INFO - Latest replacement of B is C, modified on 2024-08-15 00:00:00\n",
      "2024-08-24 17:13:53,823 - INFO - Latest replacement of C is C, modified on 2024-08-15 00:00:00\n",
      "2024-08-24 17:13:53,823 - INFO - Latest replacement of D is D, modified on 0001-01-01 00:00:00\n",
      "2024-08-24 17:13:53,823 - INFO - Latest replacement of E is F, modified on 2024-08-10 00:00:00\n",
      "2024-08-24 17:13:53,825 - INFO - Latest replacement of F is F, modified on 2024-08-10 00:00:00\n",
      "2024-08-24 17:13:53,825 - INFO - Latest replacement of G is G, modified on 0001-01-01 00:00:00\n",
      "2024-08-24 17:13:53,826 - INFO - Latest replacement of H is I, modified on 2024-08-20 00:00:00\n",
      "2024-08-24 17:13:53,826 - INFO - Latest replacement of I is I, modified on 2024-08-20 00:00:00\n",
      "2024-08-24 17:13:53,826 - WARNING - Product 'Z' not found in the system.\n",
      "2024-08-24 17:13:53,826 - INFO - Latest replacement of Z is Z\n",
      "2024-08-24 17:13:53,827 - WARNING - Replacement not made for 'B' because existing replacement is more recent or the same date.\n",
      "2024-08-24 17:13:53,827 - INFO - State saved to persist\\product_replacement_state.pkl\n"
     ]
    }
   ],
   "source": [
    "from product_replacement_manager import ProductReplacementManager\n",
    "import pandas as pd\n",
    "import logging\n",
    "from datetime import datetime\n",
    "\n",
    "# List of product names\n",
    "initial_products = ['A', 'B', 'C', 'D', 'E', 'F', 'G']\n",
    "\n",
    "# Initialize the manager with an initial set of products\n",
    "manager = ProductReplacementManager(initial_products)\n",
    "\n",
    "# Example DataFrame of replacements\n",
    "data = {\n",
    "    'OldProduct': ['A', 'B', 'E', 'H'],  # 'H' is a new product not in the initial list\n",
    "    'NewProduct': ['B', 'C', 'F', 'I'],  # 'I' is also a new product\n",
    "    'Date': ['2024-08-01', '2024-08-15', '2024-08-10', '2024-08-20']  # Dates of the replacements\n",
    "}\n",
    "df = pd.DataFrame(data)\n",
    "\n",
    "# Import the replacement data from DataFrame\n",
    "manager.add_products_from_dataframe(df)\n",
    "\n",
    "# Get and print the latest replacement version for each product\n",
    "for product in manager.products:\n",
    "    latest, date = manager.get_latest_version(product, include_date=True)\n",
    "    logging.info(f\"Latest replacement of {product} is {latest}, modified on {date}\")\n",
    "\n",
    "# Testing a product not in the system\n",
    "logging.info(f\"Latest replacement of Z is {manager.get_latest_version('Z')}\")  # Should return 'Z'\n",
    "\n",
    "# Add a new replacement with a specific date\n",
    "manager.add_replacement('B', 'D', datetime(2023, 7, 25))  # 'J' is a new product\n"
   ]
  }
 ],
 "metadata": {
  "kernelspec": {
   "display_name": "Python 3",
   "language": "python",
   "name": "python3"
  },
  "language_info": {
   "codemirror_mode": {
    "name": "ipython",
    "version": 3
   },
   "file_extension": ".py",
   "mimetype": "text/x-python",
   "name": "python",
   "nbconvert_exporter": "python",
   "pygments_lexer": "ipython3",
   "version": "3.12.5"
  }
 },
 "nbformat": 4,
 "nbformat_minor": 2
}
